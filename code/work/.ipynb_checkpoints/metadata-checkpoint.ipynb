{
 "cells": [
  {
   "cell_type": "code",
   "execution_count": 1,
   "id": "d1eee0e8",
   "metadata": {},
   "outputs": [],
   "source": [
    "# DHH23 reuse"
   ]
  },
  {
   "cell_type": "code",
   "execution_count": 26,
   "id": "ba595a26",
   "metadata": {},
   "outputs": [],
   "source": [
    "import pandas as pd\n",
    "import requests\n",
    "from PIL import Image\n",
    "import io\n",
    "import numpy as np\n",
    "import string\n",
    "\n",
    "# for plotting\n",
    "import seaborn as sns\n",
    "import matplotlib.pyplot as plt\n"
   ]
  },
  {
   "cell_type": "code",
   "execution_count": 11,
   "id": "b95550aa",
   "metadata": {},
   "outputs": [
    {
     "data": {
      "text/html": [
       "<div>\n",
       "<style scoped>\n",
       "    .dataframe tbody tr th:only-of-type {\n",
       "        vertical-align: middle;\n",
       "    }\n",
       "\n",
       "    .dataframe tbody tr th {\n",
       "        vertical-align: top;\n",
       "    }\n",
       "\n",
       "    .dataframe thead th {\n",
       "        text-align: right;\n",
       "    }\n",
       "</style>\n",
       "<table border=\"1\" class=\"dataframe\">\n",
       "  <thead>\n",
       "    <tr style=\"text-align: right;\">\n",
       "      <th></th>\n",
       "      <th>page_id</th>\n",
       "      <th>ecco_id</th>\n",
       "      <th>page_number</th>\n",
       "      <th>caption_texts</th>\n",
       "      <th>estc_id</th>\n",
       "      <th>ecco_full_title</th>\n",
       "      <th>number_of_pages</th>\n",
       "      <th>language_primary</th>\n",
       "      <th>gatherings</th>\n",
       "      <th>publication_year</th>\n",
       "      <th>publication_decade</th>\n",
       "      <th>work_id</th>\n",
       "      <th>publication_place</th>\n",
       "      <th>publication_country</th>\n",
       "      <th>document_type</th>\n",
       "      <th>sub_category</th>\n",
       "      <th>authors</th>\n",
       "    </tr>\n",
       "  </thead>\n",
       "  <tbody>\n",
       "    <tr>\n",
       "      <th>0</th>\n",
       "      <td>115120010200690</td>\n",
       "      <td>1151200102</td>\n",
       "      <td>69</td>\n",
       "      <td>NaN</td>\n",
       "      <td>T154436</td>\n",
       "      <td>A general treatise of husbandry and gardening....</td>\n",
       "      <td>388</td>\n",
       "      <td>English</td>\n",
       "      <td>8vo</td>\n",
       "      <td>1724.0</td>\n",
       "      <td>1720.0</td>\n",
       "      <td>14971-general treatise of husbandry and gardening</td>\n",
       "      <td>London</td>\n",
       "      <td>England</td>\n",
       "      <td>Book</td>\n",
       "      <td>scientificimprovementagricultureanimalhusbandry</td>\n",
       "      <td>Bradley, Richard, 1688-1732.</td>\n",
       "    </tr>\n",
       "    <tr>\n",
       "      <th>1</th>\n",
       "      <td>075200060000430</td>\n",
       "      <td>0752000600</td>\n",
       "      <td>43</td>\n",
       "      <td>NaN</td>\n",
       "      <td>T147573</td>\n",
       "      <td>Euclide's Elements; the whole fifteen books, c...</td>\n",
       "      <td>400</td>\n",
       "      <td>English</td>\n",
       "      <td>8vo</td>\n",
       "      <td>1751.0</td>\n",
       "      <td>1750.0</td>\n",
       "      <td>59-elements</td>\n",
       "      <td>London</td>\n",
       "      <td>England</td>\n",
       "      <td>Book</td>\n",
       "      <td>scientificimprovementmathematics</td>\n",
       "      <td>Euclid.</td>\n",
       "    </tr>\n",
       "    <tr>\n",
       "      <th>2</th>\n",
       "      <td>103570040003930</td>\n",
       "      <td>1035700400</td>\n",
       "      <td>393</td>\n",
       "      <td>NaN</td>\n",
       "      <td>T121680</td>\n",
       "      <td>The young mathematician's guide. Being a plain...</td>\n",
       "      <td>468</td>\n",
       "      <td>English</td>\n",
       "      <td>8vo</td>\n",
       "      <td>1719.0</td>\n",
       "      <td>1710.0</td>\n",
       "      <td>1302-young mathematicians guide being plain an...</td>\n",
       "      <td>London</td>\n",
       "      <td>England</td>\n",
       "      <td>Book</td>\n",
       "      <td>scientificimprovementmathematics</td>\n",
       "      <td>Ward, John, active 1698-1709.</td>\n",
       "    </tr>\n",
       "    <tr>\n",
       "      <th>3</th>\n",
       "      <td>023990050201390</td>\n",
       "      <td>0239900502</td>\n",
       "      <td>139</td>\n",
       "      <td>Lilium candidum</td>\n",
       "      <td>T84361</td>\n",
       "      <td>Medical botany, containing systematic and gene...</td>\n",
       "      <td>273</td>\n",
       "      <td>English</td>\n",
       "      <td>4to</td>\n",
       "      <td>1790.0</td>\n",
       "      <td>1790.0</td>\n",
       "      <td>X-T84361</td>\n",
       "      <td>London</td>\n",
       "      <td>England</td>\n",
       "      <td>Book</td>\n",
       "      <td>NaN</td>\n",
       "      <td>NaN</td>\n",
       "    </tr>\n",
       "    <tr>\n",
       "      <th>4</th>\n",
       "      <td>098690010103780</td>\n",
       "      <td>0986900101</td>\n",
       "      <td>378</td>\n",
       "      <td>NaN</td>\n",
       "      <td>T145140</td>\n",
       "      <td>An arrangement of British plants; according to...</td>\n",
       "      <td>435</td>\n",
       "      <td>English</td>\n",
       "      <td>8vo</td>\n",
       "      <td>1796.0</td>\n",
       "      <td>1790.0</td>\n",
       "      <td>25149-botanical arrangement of all vegetables ...</td>\n",
       "      <td>Birmingham</td>\n",
       "      <td>England</td>\n",
       "      <td>Book</td>\n",
       "      <td>scientificimprovementnaturalhistory</td>\n",
       "      <td>Withering, William, 1741-1799.</td>\n",
       "    </tr>\n",
       "  </tbody>\n",
       "</table>\n",
       "</div>"
      ],
      "text/plain": [
       "           page_id     ecco_id  page_number    caption_texts  estc_id   \n",
       "0  115120010200690  1151200102           69              NaN  T154436  \\\n",
       "1  075200060000430  0752000600           43              NaN  T147573   \n",
       "2  103570040003930  1035700400          393              NaN  T121680   \n",
       "3  023990050201390  0239900502          139  Lilium candidum   T84361   \n",
       "4  098690010103780  0986900101          378              NaN  T145140   \n",
       "\n",
       "                                     ecco_full_title  number_of_pages   \n",
       "0  A general treatise of husbandry and gardening....              388  \\\n",
       "1  Euclide's Elements; the whole fifteen books, c...              400   \n",
       "2  The young mathematician's guide. Being a plain...              468   \n",
       "3  Medical botany, containing systematic and gene...              273   \n",
       "4  An arrangement of British plants; according to...              435   \n",
       "\n",
       "  language_primary gatherings  publication_year  publication_decade   \n",
       "0          English        8vo            1724.0              1720.0  \\\n",
       "1          English        8vo            1751.0              1750.0   \n",
       "2          English        8vo            1719.0              1710.0   \n",
       "3          English        4to            1790.0              1790.0   \n",
       "4          English        8vo            1796.0              1790.0   \n",
       "\n",
       "                                             work_id publication_place   \n",
       "0  14971-general treatise of husbandry and gardening            London  \\\n",
       "1                                        59-elements            London   \n",
       "2  1302-young mathematicians guide being plain an...            London   \n",
       "3                                           X-T84361            London   \n",
       "4  25149-botanical arrangement of all vegetables ...        Birmingham   \n",
       "\n",
       "  publication_country document_type   \n",
       "0             England          Book  \\\n",
       "1             England          Book   \n",
       "2             England          Book   \n",
       "3             England          Book   \n",
       "4             England          Book   \n",
       "\n",
       "                                      sub_category   \n",
       "0  scientificimprovementagricultureanimalhusbandry  \\\n",
       "1                 scientificimprovementmathematics   \n",
       "2                 scientificimprovementmathematics   \n",
       "3                                              NaN   \n",
       "4              scientificimprovementnaturalhistory   \n",
       "\n",
       "                          authors  \n",
       "0    Bradley, Richard, 1688-1732.  \n",
       "1                         Euclid.  \n",
       "2   Ward, John, active 1698-1709.  \n",
       "3                             NaN  \n",
       "4  Withering, William, 1741-1799.  "
      ]
     },
     "execution_count": 11,
     "metadata": {},
     "output_type": "execute_result"
    }
   ],
   "source": [
    "# data path\n",
    "\n",
    "dpath= \"C:/Users/telmi/Documents/dhh23/EarlyModernReuse/early_modern_data-main/\"\n",
    "\n",
    "# C:\\Users\\telmi\\Documents\\dhh23\\reuseportfolio\n",
    "meta = dpath + \"metadata.csv\"\n",
    "clip= dpath + \"clip_classification.csv\"\n",
    "\n",
    "meta = pd.read_csv(meta, dtype={\"page_id\":str, \"ecco_id\":str})\n",
    "meta.head()"
   ]
  },
  {
   "cell_type": "code",
   "execution_count": 13,
   "id": "dfebf2c7",
   "metadata": {
    "scrolled": true
   },
   "outputs": [
    {
     "data": {
      "text/html": [
       "<div>\n",
       "<style scoped>\n",
       "    .dataframe tbody tr th:only-of-type {\n",
       "        vertical-align: middle;\n",
       "    }\n",
       "\n",
       "    .dataframe tbody tr th {\n",
       "        vertical-align: top;\n",
       "    }\n",
       "\n",
       "    .dataframe thead th {\n",
       "        text-align: right;\n",
       "    }\n",
       "</style>\n",
       "<table border=\"1\" class=\"dataframe\">\n",
       "  <thead>\n",
       "    <tr style=\"text-align: right;\">\n",
       "      <th></th>\n",
       "      <th>Image</th>\n",
       "      <th>Category</th>\n",
       "      <th>Score</th>\n",
       "      <th>Second_choice</th>\n",
       "      <th>2ndScore</th>\n",
       "      <th>page_id</th>\n",
       "    </tr>\n",
       "  </thead>\n",
       "  <tbody>\n",
       "    <tr>\n",
       "      <th>0</th>\n",
       "      <td>120040010108040_0.png</td>\n",
       "      <td>animal</td>\n",
       "      <td>94.335938</td>\n",
       "      <td>anatomy</td>\n",
       "      <td>1.838684</td>\n",
       "      <td>120040010108040</td>\n",
       "    </tr>\n",
       "    <tr>\n",
       "      <th>1</th>\n",
       "      <td>042570140003550_0.png</td>\n",
       "      <td>mat_geo_astro</td>\n",
       "      <td>89.453125</td>\n",
       "      <td>architecture</td>\n",
       "      <td>7.116699</td>\n",
       "      <td>042570140003550</td>\n",
       "    </tr>\n",
       "    <tr>\n",
       "      <th>2</th>\n",
       "      <td>027900080000910_0.png</td>\n",
       "      <td>mat_geo_astro</td>\n",
       "      <td>99.853516</td>\n",
       "      <td>architecture</td>\n",
       "      <td>0.066614</td>\n",
       "      <td>027900080000910</td>\n",
       "    </tr>\n",
       "    <tr>\n",
       "      <th>3</th>\n",
       "      <td>108140010003130_1.png</td>\n",
       "      <td>mat_geo_astro</td>\n",
       "      <td>98.730469</td>\n",
       "      <td>sea</td>\n",
       "      <td>1.097107</td>\n",
       "      <td>108140010003130</td>\n",
       "    </tr>\n",
       "    <tr>\n",
       "      <th>4</th>\n",
       "      <td>014880210003390_1.png</td>\n",
       "      <td>mat_geo_astro</td>\n",
       "      <td>96.289062</td>\n",
       "      <td>misc</td>\n",
       "      <td>2.030945</td>\n",
       "      <td>014880210003390</td>\n",
       "    </tr>\n",
       "  </tbody>\n",
       "</table>\n",
       "</div>"
      ],
      "text/plain": [
       "                   Image       Category      Score Second_choice  2ndScore   \n",
       "0  120040010108040_0.png         animal  94.335938       anatomy  1.838684  \\\n",
       "1  042570140003550_0.png  mat_geo_astro  89.453125  architecture  7.116699   \n",
       "2  027900080000910_0.png  mat_geo_astro  99.853516  architecture  0.066614   \n",
       "3  108140010003130_1.png  mat_geo_astro  98.730469           sea  1.097107   \n",
       "4  014880210003390_1.png  mat_geo_astro  96.289062          misc  2.030945   \n",
       "\n",
       "           page_id  \n",
       "0  120040010108040  \n",
       "1  042570140003550  \n",
       "2  027900080000910  \n",
       "3  108140010003130  \n",
       "4  014880210003390  "
      ]
     },
     "execution_count": 13,
     "metadata": {},
     "output_type": "execute_result"
    }
   ],
   "source": [
    "df = pd.read_csv(clip)\n",
    "\n",
    "df[\"page_id\"] = df[\"Image\"].apply(lambda x: x.split(\"_\")[0])\n",
    "df.head()\n"
   ]
  },
  {
   "cell_type": "code",
   "execution_count": 22,
   "id": "a2423448",
   "metadata": {
    "scrolled": true
   },
   "outputs": [
    {
     "data": {
      "text/html": [
       "<div>\n",
       "<style scoped>\n",
       "    .dataframe tbody tr th:only-of-type {\n",
       "        vertical-align: middle;\n",
       "    }\n",
       "\n",
       "    .dataframe tbody tr th {\n",
       "        vertical-align: top;\n",
       "    }\n",
       "\n",
       "    .dataframe thead th {\n",
       "        text-align: right;\n",
       "    }\n",
       "</style>\n",
       "<table border=\"1\" class=\"dataframe\">\n",
       "  <thead>\n",
       "    <tr style=\"text-align: right;\">\n",
       "      <th></th>\n",
       "      <th>Image</th>\n",
       "      <th>Category</th>\n",
       "      <th>Score</th>\n",
       "      <th>Second_choice</th>\n",
       "      <th>2ndScore</th>\n",
       "      <th>page_id</th>\n",
       "      <th>ecco_id</th>\n",
       "      <th>page_number</th>\n",
       "      <th>caption_texts</th>\n",
       "      <th>estc_id</th>\n",
       "      <th>...</th>\n",
       "      <th>language_primary</th>\n",
       "      <th>gatherings</th>\n",
       "      <th>publication_year</th>\n",
       "      <th>publication_decade</th>\n",
       "      <th>work_id</th>\n",
       "      <th>publication_place</th>\n",
       "      <th>publication_country</th>\n",
       "      <th>document_type</th>\n",
       "      <th>sub_category</th>\n",
       "      <th>authors</th>\n",
       "    </tr>\n",
       "  </thead>\n",
       "  <tbody>\n",
       "    <tr>\n",
       "      <th>0</th>\n",
       "      <td>097220010800110_0.png</td>\n",
       "      <td>botanical</td>\n",
       "      <td>88.525391</td>\n",
       "      <td>animal</td>\n",
       "      <td>8.898926</td>\n",
       "      <td>097220010800110</td>\n",
       "      <td>0972200108</td>\n",
       "      <td>11</td>\n",
       "      <td>NaN</td>\n",
       "      <td>T208360</td>\n",
       "      <td>...</td>\n",
       "      <td>English</td>\n",
       "      <td>8vo</td>\n",
       "      <td>1793.0</td>\n",
       "      <td>1790.0</td>\n",
       "      <td>X-T208360</td>\n",
       "      <td>London</td>\n",
       "      <td>England</td>\n",
       "      <td>Book</td>\n",
       "      <td>NaN</td>\n",
       "      <td>NaN</td>\n",
       "    </tr>\n",
       "    <tr>\n",
       "      <th>1</th>\n",
       "      <td>097220010800110_1.png</td>\n",
       "      <td>botanical</td>\n",
       "      <td>52.441406</td>\n",
       "      <td>animal</td>\n",
       "      <td>36.621094</td>\n",
       "      <td>097220010800110</td>\n",
       "      <td>0972200108</td>\n",
       "      <td>11</td>\n",
       "      <td>NaN</td>\n",
       "      <td>T208360</td>\n",
       "      <td>...</td>\n",
       "      <td>English</td>\n",
       "      <td>8vo</td>\n",
       "      <td>1793.0</td>\n",
       "      <td>1790.0</td>\n",
       "      <td>X-T208360</td>\n",
       "      <td>London</td>\n",
       "      <td>England</td>\n",
       "      <td>Book</td>\n",
       "      <td>NaN</td>\n",
       "      <td>NaN</td>\n",
       "    </tr>\n",
       "    <tr>\n",
       "      <th>2</th>\n",
       "      <td>054880050000090_0.png</td>\n",
       "      <td>botanical</td>\n",
       "      <td>90.478516</td>\n",
       "      <td>animal</td>\n",
       "      <td>6.872559</td>\n",
       "      <td>054880050000090</td>\n",
       "      <td>0548800500</td>\n",
       "      <td>9</td>\n",
       "      <td>Cinchona officinalis Linnæi.</td>\n",
       "      <td>T56790</td>\n",
       "      <td>...</td>\n",
       "      <td>Latin</td>\n",
       "      <td>8vo</td>\n",
       "      <td>1764.0</td>\n",
       "      <td>1760.0</td>\n",
       "      <td>90887-dissertatio medica inauguralis de cincho...</td>\n",
       "      <td>Edinburgh</td>\n",
       "      <td>Scotland</td>\n",
       "      <td>In-between</td>\n",
       "      <td>scientificimprovementmedicineandanatomy</td>\n",
       "      <td>Pulteney, Richard, 1730-1801.</td>\n",
       "    </tr>\n",
       "    <tr>\n",
       "      <th>3</th>\n",
       "      <td>028280080001530_1.png</td>\n",
       "      <td>botanical</td>\n",
       "      <td>66.503906</td>\n",
       "      <td>animal</td>\n",
       "      <td>28.149414</td>\n",
       "      <td>028280080001530</td>\n",
       "      <td>0282800800</td>\n",
       "      <td>153</td>\n",
       "      <td>Scabions &amp; Divels bit.</td>\n",
       "      <td>T129365</td>\n",
       "      <td>...</td>\n",
       "      <td>English</td>\n",
       "      <td>8vo</td>\n",
       "      <td>1798.0</td>\n",
       "      <td>1790.0</td>\n",
       "      <td>84909-a complete herbal of james newton m</td>\n",
       "      <td>London</td>\n",
       "      <td>England</td>\n",
       "      <td>Pamphlet</td>\n",
       "      <td>scientificimprovementagricultureanimalhusbandry</td>\n",
       "      <td>Newton, James, 1670?-1750.</td>\n",
       "    </tr>\n",
       "    <tr>\n",
       "      <th>4</th>\n",
       "      <td>038450020103080_1.png</td>\n",
       "      <td>botanical</td>\n",
       "      <td>51.074219</td>\n",
       "      <td>animal</td>\n",
       "      <td>28.637695</td>\n",
       "      <td>038450020103080</td>\n",
       "      <td>0384500201</td>\n",
       "      <td>308</td>\n",
       "      <td>american aloes.#Hypocistis#True acacia#German ...</td>\n",
       "      <td>T31045</td>\n",
       "      <td>...</td>\n",
       "      <td>English</td>\n",
       "      <td>4to</td>\n",
       "      <td>1748.0</td>\n",
       "      <td>1740.0</td>\n",
       "      <td>15633-histoire generale des drogues</td>\n",
       "      <td>London</td>\n",
       "      <td>England</td>\n",
       "      <td>Book</td>\n",
       "      <td>historygeneral</td>\n",
       "      <td>Pomet, Pierre, 1658-1699.</td>\n",
       "    </tr>\n",
       "  </tbody>\n",
       "</table>\n",
       "<p>5 rows × 22 columns</p>\n",
       "</div>"
      ],
      "text/plain": [
       "                   Image   Category      Score Second_choice   2ndScore   \n",
       "0  097220010800110_0.png  botanical  88.525391        animal   8.898926  \\\n",
       "1  097220010800110_1.png  botanical  52.441406        animal  36.621094   \n",
       "2  054880050000090_0.png  botanical  90.478516        animal   6.872559   \n",
       "3  028280080001530_1.png  botanical  66.503906        animal  28.149414   \n",
       "4  038450020103080_1.png  botanical  51.074219        animal  28.637695   \n",
       "\n",
       "           page_id     ecco_id  page_number   \n",
       "0  097220010800110  0972200108           11  \\\n",
       "1  097220010800110  0972200108           11   \n",
       "2  054880050000090  0548800500            9   \n",
       "3  028280080001530  0282800800          153   \n",
       "4  038450020103080  0384500201          308   \n",
       "\n",
       "                                       caption_texts  estc_id  ...   \n",
       "0                                                NaN  T208360  ...  \\\n",
       "1                                                NaN  T208360  ...   \n",
       "2                       Cinchona officinalis Linnæi.   T56790  ...   \n",
       "3                             Scabions & Divels bit.  T129365  ...   \n",
       "4  american aloes.#Hypocistis#True acacia#German ...   T31045  ...   \n",
       "\n",
       "  language_primary  gatherings publication_year publication_decade   \n",
       "0          English         8vo           1793.0             1790.0  \\\n",
       "1          English         8vo           1793.0             1790.0   \n",
       "2            Latin         8vo           1764.0             1760.0   \n",
       "3          English         8vo           1798.0             1790.0   \n",
       "4          English         4to           1748.0             1740.0   \n",
       "\n",
       "                                             work_id  publication_place   \n",
       "0                                          X-T208360             London  \\\n",
       "1                                          X-T208360             London   \n",
       "2  90887-dissertatio medica inauguralis de cincho...          Edinburgh   \n",
       "3          84909-a complete herbal of james newton m             London   \n",
       "4                15633-histoire generale des drogues             London   \n",
       "\n",
       "  publication_country document_type   \n",
       "0             England          Book  \\\n",
       "1             England          Book   \n",
       "2            Scotland    In-between   \n",
       "3             England      Pamphlet   \n",
       "4             England          Book   \n",
       "\n",
       "                                      sub_category   \n",
       "0                                              NaN  \\\n",
       "1                                              NaN   \n",
       "2          scientificimprovementmedicineandanatomy   \n",
       "3  scientificimprovementagricultureanimalhusbandry   \n",
       "4                                   historygeneral   \n",
       "\n",
       "                         authors  \n",
       "0                            NaN  \n",
       "1                            NaN  \n",
       "2  Pulteney, Richard, 1730-1801.  \n",
       "3     Newton, James, 1670?-1750.  \n",
       "4      Pomet, Pierre, 1658-1699.  \n",
       "\n",
       "[5 rows x 22 columns]"
      ]
     },
     "execution_count": 22,
     "metadata": {},
     "output_type": "execute_result"
    }
   ],
   "source": [
    "bot = df[df[\"Category\"]==\"botanical\"]\n",
    "bot = bot[bot[\"Score\"]> 50]\n",
    "\n",
    "# merge with metadata\n",
    "\n",
    "data = bot.merge(meta, on=\"page_id\").drop_duplicates(subset=[\"Image\"])\n",
    "data.head()"
   ]
  },
  {
   "cell_type": "code",
   "execution_count": 21,
   "id": "59702bba",
   "metadata": {
    "scrolled": true
   },
   "outputs": [
    {
     "data": {
      "text/plain": [
       "Index(['Image', 'Category', 'Score', 'Second_choice', '2ndScore', 'page_id',\n",
       "       'ecco_id', 'page_number', 'caption_texts', 'estc_id', 'ecco_full_title',\n",
       "       'number_of_pages', 'language_primary', 'gatherings', 'publication_year',\n",
       "       'publication_decade', 'work_id', 'publication_place',\n",
       "       'publication_country', 'document_type', 'sub_category', 'authors'],\n",
       "      dtype='object')"
      ]
     },
     "execution_count": 21,
     "metadata": {},
     "output_type": "execute_result"
    }
   ],
   "source": [
    "# sth\n",
    "data.columns"
   ]
  },
  {
   "cell_type": "code",
   "execution_count": 25,
   "id": "ece3fe5c",
   "metadata": {},
   "outputs": [
    {
     "name": "stdout",
     "output_type": "stream",
     "text": [
      "86.5234375\n"
     ]
    },
    {
     "data": {
      "image/png": "[encoded data removed]",
      "text/plain": [
       "<PIL.Image.Image image mode=1 size=300x516>"
      ]
     },
     "metadata": {},
     "output_type": "display_data"
    },
    {
     "name": "stdout",
     "output_type": "stream",
     "text": [
      "56.005859375\n"
     ]
    },
    {
     "data": {
      "image/png": "[encoded data removed]",
      "text/plain": [
       "<PIL.Image.Image image mode=1 size=300x474>"
      ]
     },
     "metadata": {},
     "output_type": "display_data"
    },
    {
     "name": "stdout",
     "output_type": "stream",
     "text": [
      "53.271484375\n"
     ]
    },
    {
     "data": {
      "image/png": "[encoded data removed]",
      "text/plain": [
       "<PIL.Image.Image image mode=1 size=300x465>"
      ]
     },
     "metadata": {},
     "output_type": "display_data"
    },
    {
     "name": "stdout",
     "output_type": "stream",
     "text": [
      "69.82421875\n"
     ]
    },
    {
     "data": {
      "image/png": "[encoded data removed]",
      "text/plain": [
       "<PIL.Image.Image image mode=1 size=300x473>"
      ]
     },
     "metadata": {},
     "output_type": "display_data"
    },
    {
     "name": "stdout",
     "output_type": "stream",
     "text": [
      "84.326171875\n"
     ]
    },
    {
     "data": {
      "image/png": "[encoded data removed]",
      "text/plain": [
       "<PIL.Image.Image image mode=1 size=300x480>"
      ]
     },
     "metadata": {},
     "output_type": "display_data"
    },
    {
     "name": "stdout",
     "output_type": "stream",
     "text": [
      "82.6171875\n"
     ]
    },
    {
     "data": {
      "image/png": "[encoded data removed]",
      "text/plain": [
       "<PIL.Image.Image image mode=1 size=300x567>"
      ]
     },
     "metadata": {},
     "output_type": "display_data"
    },
    {
     "name": "stdout",
     "output_type": "stream",
     "text": [
      "92.96875\n"
     ]
    },
    {
     "data": {
      "image/png": "[encoded data removed]",
      "text/plain": [
       "<PIL.Image.Image image mode=1 size=300x483>"
      ]
     },
     "metadata": {},
     "output_type": "display_data"
    },
    {
     "name": "stdout",
     "output_type": "stream",
     "text": [
      "60.791015625\n"
     ]
    },
    {
     "data": {
      "image/png": "[encoded data removed]",
      "text/plain": [
       "<PIL.Image.Image image mode=1 size=300x522>"
      ]
     },
     "metadata": {},
     "output_type": "display_data"
    },
    {
     "name": "stdout",
     "output_type": "stream",
     "text": [
      "66.2109375\n"
     ]
    },
    {
     "data": {
      "image/png": "[encoded data removed]",
      "text/plain": [
       "<PIL.Image.Image image mode=1 size=300x476>"
      ]
     },
     "metadata": {},
     "output_type": "display_data"
    },
    {
     "name": "stdout",
     "output_type": "stream",
     "text": [
      "85.44921875\n"
     ]
    },
    {
     "data": {
      "image/png": "[encoded data removed]",
      "text/plain": [
       "<PIL.Image.Image image mode=1 size=300x431>"
      ]
     },
     "metadata": {},
     "output_type": "display_data"
    }
   ],
   "source": [
    "# view some data\n",
    "\n",
    "\n",
    "for image,r in data.sample(10).iterrows():\n",
    "    page_id = r[\"page_id\"]\n",
    "    # https://a3s.fi/dhh23-em-pages/021950020103780.png\n",
    "    # URL of the image\n",
    "    image_url = \"https://a3s.fi/dhh23-em-pages/\"+page_id+\".png\"\n",
    "    print(r[\"Score\"])\n",
    "    # Send a GET request to the image URL\n",
    "    response = requests.get(image_url)\n",
    "\n",
    "    # Read the image data from the response\n",
    "    image_data = response.content\n",
    "\n",
    "    # Create a PIL image object from the image data\n",
    "    image = Image.open(io.BytesIO(image_data))\n",
    "\n",
    "    # Display the image in the notebook output\n",
    "    #image.show()\n",
    "    #display(image)\n",
    "    # Resize the image\n",
    "    new_width = 300  # Set the desired width\n",
    "    new_height = int(image.size[1] * (new_width / image.size[0]))  # Maintain the aspect ratio\n",
    "    resized_image = image.resize((new_width, new_height))\n",
    "\n",
    "    # Display the resized image in the notebook output\n",
    "    display(resized_image)"
   ]
  },
  {
   "cell_type": "code",
   "execution_count": 47,
   "id": "be1bf3f6",
   "metadata": {},
   "outputs": [],
   "source": [
    "dec=data.groupby([\"gatherings\",\"publication_decade\"]).size().reset_index(name=\"count\")\n",
    "dec_book=data.groupby([\"gatherings\",\"publication_decade\"])[\"ecco_id\"].nunique().reset_index(name=\"count\")"
   ]
  },
  {
   "cell_type": "code",
   "execution_count": 37,
   "id": "27275e8e",
   "metadata": {},
   "outputs": [
    {
     "data": {
      "text/plain": [
       "<Axes: >"
      ]
     },
     "execution_count": 37,
     "metadata": {},
     "output_type": "execute_result"
    },
    {
     "data": {
      "image/png": "[encoded data removed]",
      "text/plain": [
       "<Figure size 640x480 with 1 Axes>"
      ]
     },
     "metadata": {},
     "output_type": "display_data"
    }
   ],
   "source": [
    "data[\"Score\"].hist()"
   ]
  },
  {
   "cell_type": "code",
   "execution_count": 53,
   "id": "6eda97fa",
   "metadata": {},
   "outputs": [
    {
     "data": {
      "image/png": "[encoded data removed]",
      "text/plain": [
       "<Figure size 1000x400 with 3 Axes>"
      ]
     },
     "metadata": {},
     "output_type": "display_data"
    }
   ],
   "source": [
    "# data exploration\n",
    "\n",
    "fig, axs = plt.subplots(1,3, figsize=(10,4))\n",
    "\n",
    "# histograms\n",
    "axs0=data[\"Score\"].hist(ax=axs[0]) # categorization score distribution\n",
    "axs1=sns.barplot(data=dec, x='publication_decade', y='count',hue=\"gatherings\", ax=axs[1]) \n",
    "axs2=sns.barplot(data=dec_book, x='publication_decade', y='count',hue=\"gatherings\", ax=axs[2]) \n",
    "\n",
    "#plot.legend(\"\")\n",
    "#dec.plot(\"publication_decade\",\"count\",hue=\"gatherings\",ax=axs[1])\n",
    "#axs2=\n",
    "#axs3="
   ]
  },
  {
   "cell_type": "code",
   "execution_count": null,
   "id": "83cbc17e",
   "metadata": {},
   "outputs": [],
   "source": []
  }
 ],
 "metadata": {
  "kernelspec": {
   "display_name": "dhh",
   "language": "python",
   "name": "dhh"
  },
  "language_info": {
   "codemirror_mode": {
    "name": "ipython",
    "version": 3
   },
   "file_extension": ".py",
   "mimetype": "text/x-python",
   "name": "python",
   "nbconvert_exporter": "python",
   "pygments_lexer": "ipython3",
   "version": "3.11.3"
  }
 },
 "nbformat": 4,
 "nbformat_minor": 5
}
